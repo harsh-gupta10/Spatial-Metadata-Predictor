{
 "cells": [
  {
   "cell_type": "code",
   "execution_count": 1,
   "id": "1cbb0775",
   "metadata": {},
   "outputs": [
    {
     "name": "stderr",
     "output_type": "stream",
     "text": [
      "C:\\Users\\91997\\AppData\\Local\\Packages\\PythonSoftwareFoundation.Python.3.13_qbz5n2kfra8p0\\LocalCache\\local-packages\\Python313\\site-packages\\timm\\models\\layers\\__init__.py:48: FutureWarning: Importing from timm.models.layers is deprecated, please import via timm.layers\n",
      "  warnings.warn(f\"Importing from {__name__} is deprecated, please import via timm.layers\", FutureWarning)\n"
     ]
    },
    {
     "name": "stdout",
     "output_type": "stream",
     "text": [
      "Using device: cuda\n"
     ]
    },
    {
     "name": "stderr",
     "output_type": "stream",
     "text": [
      "Using cache found in C:\\Users\\91997/.cache\\torch\\hub\\facebookresearch_dinov2_main\n",
      "C:\\Users\\91997/.cache\\torch\\hub\\facebookresearch_dinov2_main\\dinov2\\layers\\swiglu_ffn.py:51: UserWarning: xFormers is not available (SwiGLU)\n",
      "  warnings.warn(\"xFormers is not available (SwiGLU)\")\n",
      "C:\\Users\\91997/.cache\\torch\\hub\\facebookresearch_dinov2_main\\dinov2\\layers\\attention.py:33: UserWarning: xFormers is not available (Attention)\n",
      "  warnings.warn(\"xFormers is not available (Attention)\")\n",
      "C:\\Users\\91997/.cache\\torch\\hub\\facebookresearch_dinov2_main\\dinov2\\layers\\block.py:40: UserWarning: xFormers is not available (Block)\n",
      "  warnings.warn(\"xFormers is not available (Block)\")\n",
      "C:\\Users\\91997\\AppData\\Local\\Temp\\ipykernel_30652\\3384266339.py:150: FutureWarning: `torch.cuda.amp.GradScaler(args...)` is deprecated. Please use `torch.amp.GradScaler('cuda', args...)` instead.\n",
      "  scaler = amp.GradScaler()\n",
      "Epoch 1:   0%|          | 0/3238 [00:00<?, ?it/s]C:\\Users\\91997\\AppData\\Local\\Temp\\ipykernel_30652\\3384266339.py:164: FutureWarning: `torch.cuda.amp.autocast(args...)` is deprecated. Please use `torch.amp.autocast('cuda', args...)` instead.\n",
      "  with amp.autocast():\n",
      "Epoch 1:   0%|          | 1/3238 [00:00<37:14,  1.45it/s, train_loss=0.0937, train_mae=29.90°]C:\\Users\\91997\\AppData\\Local\\Packages\\PythonSoftwareFoundation.Python.3.13_qbz5n2kfra8p0\\LocalCache\\local-packages\\Python313\\site-packages\\torch\\optim\\lr_scheduler.py:227: UserWarning: Detected call of `lr_scheduler.step()` before `optimizer.step()`. In PyTorch 1.1.0 and later, you should call them in the opposite order: `optimizer.step()` before `lr_scheduler.step()`.  Failure to do this will result in PyTorch skipping the first value of the learning rate schedule. See more details at https://pytorch.org/docs/stable/optim.html#how-to-adjust-learning-rate\n",
      "  warnings.warn(\n",
      "Epoch 1: 100%|██████████| 3238/3238 [19:53<00:00,  2.71it/s, train_loss=0.3618, train_mae=69.59°]\n"
     ]
    },
    {
     "name": "stdout",
     "output_type": "stream",
     "text": [
      "Epoch 1 → Val MAE = 49.59°   (best inf°)\n",
      "  ✔ New best model saved.\n"
     ]
    },
    {
     "name": "stderr",
     "output_type": "stream",
     "text": [
      "Epoch 2: 100%|██████████| 3238/3238 [20:08<00:00,  2.68it/s, train_loss=0.2081, train_mae=46.31°]\n"
     ]
    },
    {
     "name": "stdout",
     "output_type": "stream",
     "text": [
      "Epoch 2 → Val MAE = 38.09°   (best 49.59°)\n",
      "  ✔ New best model saved.\n"
     ]
    },
    {
     "name": "stderr",
     "output_type": "stream",
     "text": [
      "Epoch 3: 100%|██████████| 3238/3238 [20:12<00:00,  2.67it/s, train_loss=0.1435, train_mae=35.75°]\n"
     ]
    },
    {
     "name": "stdout",
     "output_type": "stream",
     "text": [
      "Epoch 3 → Val MAE = 31.65°   (best 38.09°)\n",
      "  ✔ New best model saved.\n"
     ]
    },
    {
     "name": "stderr",
     "output_type": "stream",
     "text": [
      "Epoch 4: 100%|██████████| 3238/3238 [19:41<00:00,  2.74it/s, train_loss=0.1173, train_mae=31.09°]\n"
     ]
    },
    {
     "name": "stdout",
     "output_type": "stream",
     "text": [
      "Epoch 4 → Val MAE = 29.79°   (best 31.65°)\n",
      "  ✔ New best model saved.\n"
     ]
    },
    {
     "name": "stderr",
     "output_type": "stream",
     "text": [
      "Epoch 5: 100%|██████████| 3238/3238 [19:37<00:00,  2.75it/s, train_loss=0.0975, train_mae=27.29°]\n"
     ]
    },
    {
     "name": "stdout",
     "output_type": "stream",
     "text": [
      "Epoch 5 → Val MAE = 29.21°   (best 29.79°)\n",
      "  ✔ New best model saved.\n"
     ]
    },
    {
     "name": "stderr",
     "output_type": "stream",
     "text": [
      "Epoch 6: 100%|██████████| 3238/3238 [19:47<00:00,  2.73it/s, train_loss=0.0836, train_mae=24.72°]\n"
     ]
    },
    {
     "name": "stdout",
     "output_type": "stream",
     "text": [
      "Epoch 6 → Val MAE = 26.74°   (best 29.21°)\n",
      "  ✔ New best model saved.\n"
     ]
    },
    {
     "name": "stderr",
     "output_type": "stream",
     "text": [
      "Epoch 7: 100%|██████████| 3238/3238 [19:42<00:00,  2.74it/s, train_loss=0.0733, train_mae=22.52°]\n"
     ]
    },
    {
     "name": "stdout",
     "output_type": "stream",
     "text": [
      "Epoch 7 → Val MAE = 24.37°   (best 26.74°)\n",
      "  ✔ New best model saved.\n"
     ]
    },
    {
     "name": "stderr",
     "output_type": "stream",
     "text": [
      "Epoch 8: 100%|██████████| 3238/3238 [19:49<00:00,  2.72it/s, train_loss=0.0632, train_mae=20.56°]\n"
     ]
    },
    {
     "name": "stdout",
     "output_type": "stream",
     "text": [
      "Epoch 8 → Val MAE = 25.53°   (best 24.37°)\n"
     ]
    },
    {
     "name": "stderr",
     "output_type": "stream",
     "text": [
      "Epoch 9: 100%|██████████| 3238/3238 [20:38<00:00,  2.61it/s, train_loss=0.0586, train_mae=19.41°]\n"
     ]
    },
    {
     "name": "stdout",
     "output_type": "stream",
     "text": [
      "Epoch 9 → Val MAE = 24.03°   (best 24.37°)\n",
      "  ✔ New best model saved.\n"
     ]
    },
    {
     "name": "stderr",
     "output_type": "stream",
     "text": [
      "Epoch 10: 100%|██████████| 3238/3238 [20:03<00:00,  2.69it/s, train_loss=0.0562, train_mae=18.78°]\n"
     ]
    },
    {
     "name": "stdout",
     "output_type": "stream",
     "text": [
      "Epoch 10 → Val MAE = 23.15°   (best 24.03°)\n",
      "  ✔ New best model saved.\n"
     ]
    },
    {
     "name": "stderr",
     "output_type": "stream",
     "text": [
      "Epoch 11: 100%|██████████| 3238/3238 [19:42<00:00,  2.74it/s, train_loss=0.0482, train_mae=17.16°]\n"
     ]
    },
    {
     "name": "stdout",
     "output_type": "stream",
     "text": [
      "Epoch 11 → Val MAE = 22.08°   (best 23.15°)\n",
      "  ✔ New best model saved.\n"
     ]
    },
    {
     "name": "stderr",
     "output_type": "stream",
     "text": [
      "Epoch 12: 100%|██████████| 3238/3238 [19:42<00:00,  2.74it/s, train_loss=0.0443, train_mae=16.25°]\n"
     ]
    },
    {
     "name": "stdout",
     "output_type": "stream",
     "text": [
      "Epoch 12 → Val MAE = 22.21°   (best 22.08°)\n"
     ]
    },
    {
     "name": "stderr",
     "output_type": "stream",
     "text": [
      "Epoch 13: 100%|██████████| 3238/3238 [19:41<00:00,  2.74it/s, train_loss=0.0423, train_mae=15.76°]\n"
     ]
    },
    {
     "name": "stdout",
     "output_type": "stream",
     "text": [
      "Epoch 13 → Val MAE = 23.67°   (best 22.08°)\n"
     ]
    },
    {
     "name": "stderr",
     "output_type": "stream",
     "text": [
      "Epoch 14: 100%|██████████| 3238/3238 [19:41<00:00,  2.74it/s, train_loss=0.0389, train_mae=14.85°]\n"
     ]
    },
    {
     "name": "stdout",
     "output_type": "stream",
     "text": [
      "Epoch 14 → Val MAE = 23.11°   (best 22.08°)\n"
     ]
    },
    {
     "name": "stderr",
     "output_type": "stream",
     "text": [
      "Epoch 15: 100%|██████████| 3238/3238 [19:43<00:00,  2.74it/s, train_loss=0.0361, train_mae=14.33°]\n"
     ]
    },
    {
     "name": "stdout",
     "output_type": "stream",
     "text": [
      "Epoch 15 → Val MAE = 20.86°   (best 22.08°)\n",
      "  ✔ New best model saved.\n"
     ]
    },
    {
     "name": "stderr",
     "output_type": "stream",
     "text": [
      "Epoch 16: 100%|██████████| 3238/3238 [19:42<00:00,  2.74it/s, train_loss=0.0363, train_mae=13.99°]\n"
     ]
    },
    {
     "name": "stdout",
     "output_type": "stream",
     "text": [
      "Epoch 16 → Val MAE = 21.59°   (best 20.86°)\n"
     ]
    },
    {
     "name": "stderr",
     "output_type": "stream",
     "text": [
      "Epoch 17: 100%|██████████| 3238/3238 [19:43<00:00,  2.74it/s, train_loss=0.0330, train_mae=13.47°]\n"
     ]
    },
    {
     "name": "stdout",
     "output_type": "stream",
     "text": [
      "Epoch 17 → Val MAE = 21.63°   (best 20.86°)\n"
     ]
    },
    {
     "name": "stderr",
     "output_type": "stream",
     "text": [
      "Epoch 18: 100%|██████████| 3238/3238 [19:38<00:00,  2.75it/s, train_loss=0.0300, train_mae=12.74°]\n"
     ]
    },
    {
     "name": "stdout",
     "output_type": "stream",
     "text": [
      "Epoch 18 → Val MAE = 22.25°   (best 20.86°)\n"
     ]
    },
    {
     "name": "stderr",
     "output_type": "stream",
     "text": [
      "Epoch 19: 100%|██████████| 3238/3238 [19:42<00:00,  2.74it/s, train_loss=0.0288, train_mae=12.24°]\n"
     ]
    },
    {
     "name": "stdout",
     "output_type": "stream",
     "text": [
      "Epoch 19 → Val MAE = 21.32°   (best 20.86°)\n"
     ]
    },
    {
     "name": "stderr",
     "output_type": "stream",
     "text": [
      "Epoch 20: 100%|██████████| 3238/3238 [19:46<00:00,  2.73it/s, train_loss=0.0252, train_mae=11.44°]\n"
     ]
    },
    {
     "name": "stdout",
     "output_type": "stream",
     "text": [
      "Epoch 20 → Val MAE = 22.16°   (best 20.86°)\n"
     ]
    },
    {
     "name": "stderr",
     "output_type": "stream",
     "text": [
      "Epoch 21: 100%|██████████| 3238/3238 [19:46<00:00,  2.73it/s, train_loss=0.0242, train_mae=11.22°] \n"
     ]
    },
    {
     "name": "stdout",
     "output_type": "stream",
     "text": [
      "Epoch 21 → Val MAE = 20.29°   (best 20.86°)\n",
      "  ✔ New best model saved.\n"
     ]
    },
    {
     "name": "stderr",
     "output_type": "stream",
     "text": [
      "Epoch 22: 100%|██████████| 3238/3238 [19:42<00:00,  2.74it/s, train_loss=0.0230, train_mae=10.77°]\n"
     ]
    },
    {
     "name": "stdout",
     "output_type": "stream",
     "text": [
      "Epoch 22 → Val MAE = 20.89°   (best 20.29°)\n"
     ]
    },
    {
     "name": "stderr",
     "output_type": "stream",
     "text": [
      "Epoch 23: 100%|██████████| 3238/3238 [19:42<00:00,  2.74it/s, train_loss=0.0219, train_mae=10.46°]\n"
     ]
    },
    {
     "name": "stdout",
     "output_type": "stream",
     "text": [
      "Epoch 23 → Val MAE = 21.00°   (best 20.29°)\n"
     ]
    },
    {
     "name": "stderr",
     "output_type": "stream",
     "text": [
      "Epoch 24: 100%|██████████| 3238/3238 [19:42<00:00,  2.74it/s, train_loss=0.0202, train_mae=10.00°]\n"
     ]
    },
    {
     "name": "stdout",
     "output_type": "stream",
     "text": [
      "Epoch 24 → Val MAE = 22.56°   (best 20.29°)\n"
     ]
    },
    {
     "name": "stderr",
     "output_type": "stream",
     "text": [
      "Epoch 25: 100%|██████████| 3238/3238 [19:41<00:00,  2.74it/s, train_loss=0.0204, train_mae=10.02°]\n"
     ]
    },
    {
     "name": "stdout",
     "output_type": "stream",
     "text": [
      "Epoch 25 → Val MAE = 20.14°   (best 20.29°)\n",
      "  ✔ New best model saved.\n"
     ]
    },
    {
     "name": "stderr",
     "output_type": "stream",
     "text": [
      "Epoch 26: 100%|██████████| 3238/3238 [19:41<00:00,  2.74it/s, train_loss=0.0191, train_mae=9.67°]\n"
     ]
    },
    {
     "name": "stdout",
     "output_type": "stream",
     "text": [
      "Epoch 26 → Val MAE = 21.94°   (best 20.14°)\n"
     ]
    },
    {
     "name": "stderr",
     "output_type": "stream",
     "text": [
      "Epoch 27: 100%|██████████| 3238/3238 [19:41<00:00,  2.74it/s, train_loss=0.0173, train_mae=9.19°]\n"
     ]
    },
    {
     "name": "stdout",
     "output_type": "stream",
     "text": [
      "Epoch 27 → Val MAE = 21.34°   (best 20.14°)\n"
     ]
    },
    {
     "name": "stderr",
     "output_type": "stream",
     "text": [
      "Epoch 28: 100%|██████████| 3238/3238 [19:41<00:00,  2.74it/s, train_loss=0.0147, train_mae=8.66°]\n"
     ]
    },
    {
     "name": "stdout",
     "output_type": "stream",
     "text": [
      "Epoch 28 → Val MAE = 20.56°   (best 20.14°)\n"
     ]
    },
    {
     "name": "stderr",
     "output_type": "stream",
     "text": [
      "Epoch 29: 100%|██████████| 3238/3238 [19:41<00:00,  2.74it/s, train_loss=0.0155, train_mae=8.57°]\n"
     ]
    },
    {
     "name": "stdout",
     "output_type": "stream",
     "text": [
      "Epoch 29 → Val MAE = 20.81°   (best 20.14°)\n"
     ]
    },
    {
     "name": "stderr",
     "output_type": "stream",
     "text": [
      "Epoch 30: 100%|██████████| 3238/3238 [19:41<00:00,  2.74it/s, train_loss=0.0147, train_mae=8.37°]\n"
     ]
    },
    {
     "name": "stdout",
     "output_type": "stream",
     "text": [
      "Epoch 30 → Val MAE = 21.32°   (best 20.14°)\n",
      "Training complete. Best Val MAE = 20.14°\n"
     ]
    }
   ],
   "source": [
    "import os\n",
    "import math\n",
    "import numpy as np\n",
    "import pandas as pd\n",
    "from PIL import Image\n",
    "\n",
    "import torch\n",
    "import torch.nn as nn\n",
    "import torch.optim as optim\n",
    "from torch.utils.data import Dataset, DataLoader\n",
    "import torchvision.transforms as T\n",
    "import torchvision.transforms.autoaugment as autoaug\n",
    "import torch.cuda.amp as amp\n",
    "from timm.models.layers import DropPath\n",
    "from tqdm import tqdm\n",
    "\n",
    "# ----------------- Setup -----------------\n",
    "def seed_everything(seed=42):\n",
    "    torch.manual_seed(seed)\n",
    "    np.random.seed(seed)\n",
    "    if torch.cuda.is_available():\n",
    "        torch.cuda.manual_seed_all(seed)\n",
    "\n",
    "seed_everything(42)\n",
    "device = torch.device('cuda' if torch.cuda.is_available() else 'cpu')\n",
    "print(f\"Using device: {device}\")\n",
    "\n",
    "# ----------------- Dataset -----------------\n",
    "class GeoAngleDataset(Dataset):\n",
    "    def __init__(self, df, img_dir, transform):\n",
    "        self.df = df.reset_index(drop=True)\n",
    "        self.img_dir = img_dir\n",
    "        self.transform = transform\n",
    "\n",
    "    def __len__(self):\n",
    "        return len(self.df)\n",
    "\n",
    "    def __getitem__(self, idx):\n",
    "        row = self.df.iloc[idx]\n",
    "        img = Image.open(os.path.join(self.img_dir, row.filename)).convert('RGB')\n",
    "        img = self.transform(img)\n",
    "        angle = float(row.angle) % 360\n",
    "        rad   = angle * math.pi / 180.0\n",
    "        return img, torch.tensor([math.cos(rad), math.sin(rad)], dtype=torch.float32)\n",
    "\n",
    "# ----------------- Model -----------------\n",
    "class AngleModel(nn.Module):\n",
    "    def __init__(self, dropout_p=0.1, drop_path_rate=0.1):\n",
    "        super().__init__()\n",
    "        # DINOv2 ViT-B/14 backbone\n",
    "        self.backbone = torch.hub.load('facebookresearch/dinov2', 'dinov2_vitb14', pretrained=True)\n",
    "\n",
    "        # Add stochastic depth\n",
    "        for blk in self.backbone.blocks:\n",
    "            blk.drop_path = DropPath(drop_path_rate) if drop_path_rate > 0 else nn.Identity()\n",
    "\n",
    "        # Freeze patch embedding & first half of blocks\n",
    "        self.backbone.patch_embed.requires_grad_(False)\n",
    "        num_blocks = len(self.backbone.blocks)\n",
    "        for blk in self.backbone.blocks[: num_blocks // 2]:\n",
    "            for p in blk.parameters():\n",
    "                p.requires_grad = False\n",
    "\n",
    "        # Regression head\n",
    "        feat_dim = self.backbone.embed_dim\n",
    "        self.dropout = nn.Dropout(dropout_p)\n",
    "        self.head = nn.Sequential(\n",
    "            nn.Linear(feat_dim, feat_dim // 2),\n",
    "            nn.ReLU(inplace=True),\n",
    "            nn.Dropout(dropout_p),\n",
    "            nn.Linear(feat_dim // 2, 2),\n",
    "        )\n",
    "\n",
    "    def forward(self, x):\n",
    "        feats = self.backbone(x)           # [B, C]\n",
    "        feats = self.dropout(feats)\n",
    "        out   = self.head(feats)           # [B, 2]\n",
    "        # normalize to unit circle\n",
    "        norm  = out.norm(dim=1, keepdim=True).clamp(min=1e-6)\n",
    "        return out / norm\n",
    "\n",
    "# ----------------- Metrics -----------------\n",
    "def angle_mae(pred, tgt):\n",
    "    dot  = (pred * tgt).sum(dim=1).clamp(-1, 1)\n",
    "    diff = torch.acos(dot)  # radians\n",
    "    return (diff * 180 / math.pi).mean().item()\n",
    "\n",
    "def validate(model, loader):\n",
    "    model.eval()\n",
    "    maes = []\n",
    "    with torch.no_grad():\n",
    "        for imgs, tgt in loader:\n",
    "            imgs, tgt = imgs.to(device), tgt.to(device)\n",
    "            p = model(imgs)\n",
    "            maes.append(angle_mae(p, tgt))\n",
    "    return float(np.mean(maes))\n",
    "\n",
    "# ----------------- Main -----------------\n",
    "if __name__ == '__main__':\n",
    "    DATA_ROOT  = ''\n",
    "    DATA_ROOT2 = ''\n",
    "    \n",
    "    train_df = pd.read_csv(os.path.join(DATA_ROOT2, 'labels_train_updated.csv')).dropna(subset=['angle'])\n",
    "    val_df   = pd.read_csv(os.path.join(DATA_ROOT,  'labels_val_updated.csv')).dropna(subset=['angle'])\n",
    "    train_dir = os.path.join(DATA_ROOT, 'images_train')\n",
    "    val_dir   = os.path.join(DATA_ROOT, 'images_val')\n",
    "\n",
    "    # Ensure size is multiple of 14: 476 = 14*34\n",
    "    IMG_SIZE = 476\n",
    "\n",
    "    train_tf = T.Compose([\n",
    "        T.RandomResizedCrop(IMG_SIZE, scale=(0.5, 1.0)),\n",
    "        autoaug.RandAugment(),\n",
    "        T.ColorJitter(0.3, 0.3, 0.3),\n",
    "        T.ToTensor(),\n",
    "        T.Normalize([0.485, 0.456, 0.406],\n",
    "                    [0.229, 0.224, 0.225]),\n",
    "    ])\n",
    "    val_tf = T.Compose([\n",
    "        T.Resize(IMG_SIZE + 20),\n",
    "        T.CenterCrop(IMG_SIZE),\n",
    "        T.ToTensor(),\n",
    "        T.Normalize([0.485, 0.456, 0.406],\n",
    "                    [0.229, 0.224, 0.225]),\n",
    "    ])\n",
    "\n",
    "    train_ds = GeoAngleDataset(train_df, train_dir, train_tf)\n",
    "    val_ds   = GeoAngleDataset(val_df,   val_dir,   val_tf)\n",
    "    train_loader = DataLoader(train_ds, batch_size=2, shuffle=True,\n",
    "                              num_workers=0, pin_memory=True)\n",
    "    val_loader   = DataLoader(val_ds,   batch_size=2, shuffle=False,\n",
    "                              num_workers=0, pin_memory=True)\n",
    "\n",
    "    model = AngleModel(dropout_p=0.1, drop_path_rate=0.1).to(device)\n",
    "\n",
    "    # Optimizer: AdamW with separate LRs increased by 5×\n",
    "    backbone_params = [p for p in model.backbone.parameters() if p.requires_grad]\n",
    "    head_params     = list(model.head.parameters()) + list(model.dropout.parameters())\n",
    "    optimizer = optim.AdamW([\n",
    "        {\"params\": backbone_params, \"lr\": 5e-6},\n",
    "        {\"params\": head_params,     \"lr\": 5e-4}\n",
    "    ], weight_decay=1e-2)\n",
    "\n",
    "    # Cosine LR schedule\n",
    "    num_epochs = 30\n",
    "    scheduler = optim.lr_scheduler.CosineAnnealingLR(\n",
    "        optimizer, T_max=num_epochs, eta_min=1e-7\n",
    "    )\n",
    "\n",
    "    scaler = amp.GradScaler()\n",
    "    best_mae = float('inf')\n",
    "    accum_steps = 2  # to simulate batch size 16\n",
    "\n",
    "    for epoch in range(1, num_epochs + 1):\n",
    "        model.train()\n",
    "        optimizer.zero_grad()\n",
    "        running_loss = 0.0\n",
    "        running_mae  = 0.0\n",
    "        running_n    = 0\n",
    "\n",
    "        pbar = tqdm(train_loader, desc=f\"Epoch {epoch}\")\n",
    "        for i, (imgs, tgt) in enumerate(pbar, 1):\n",
    "            imgs, tgt = imgs.to(device), tgt.to(device)\n",
    "            with amp.autocast():\n",
    "                out   = model(imgs)\n",
    "                loss  = nn.MSELoss()(out, tgt) / accum_steps\n",
    "            scaler.scale(loss).backward()\n",
    "\n",
    "            # compute batch MAE on mixed-precision output\n",
    "            with torch.no_grad():\n",
    "                batch_mae = angle_mae(out.detach(), tgt)\n",
    "\n",
    "            # accumulate stats\n",
    "            running_loss += loss.item() * accum_steps\n",
    "            running_mae  += batch_mae * imgs.size(0)\n",
    "            running_n    += imgs.size(0)\n",
    "\n",
    "            if i % accum_steps == 0:\n",
    "                scaler.unscale_(optimizer)\n",
    "                nn.utils.clip_grad_norm_(model.parameters(), 1.0)\n",
    "                scaler.step(optimizer)\n",
    "                scaler.update()\n",
    "                optimizer.zero_grad()\n",
    "                scheduler.step()\n",
    "\n",
    "            epoch_loss = running_loss / running_n\n",
    "            epoch_mae  = running_mae / running_n\n",
    "            pbar.set_postfix(train_loss=f\"{epoch_loss:.4f}\", train_mae=f\"{epoch_mae:.2f}°\")\n",
    "\n",
    "        val_mae = validate(model, val_loader)\n",
    "        print(f\"Epoch {epoch} → Val MAE = {val_mae:.2f}°   (best {best_mae:.2f}°)\")\n",
    "        if val_mae < best_mae:\n",
    "            best_mae = val_mae\n",
    "            torch.save(model.state_dict(), 'best_model.pth')\n",
    "            print(\"  ✔ New best model saved.\")\n",
    "\n",
    "    print(f\"Training complete. Best Val MAE = {best_mae:.2f}°\")\n"
   ]
  },
  {
   "cell_type": "code",
   "execution_count": null,
   "id": "3f478b41",
   "metadata": {},
   "outputs": [
    {
     "name": "stderr",
     "output_type": "stream",
     "text": [
      "Epoch 31:   0%|          | 0/3238 [00:00<?, ?it/s]C:\\Users\\91997\\AppData\\Local\\Temp\\ipykernel_30652\\4116418947.py:16: FutureWarning: `torch.cuda.amp.autocast(args...)` is deprecated. Please use `torch.amp.autocast('cuda', args...)` instead.\n",
      "  with amp.autocast():\n",
      "Epoch 31: 100%|██████████| 3238/3238 [20:04<00:00,  2.69it/s, train_loss=0.0125, train_mae=7.86°]\n"
     ]
    },
    {
     "name": "stdout",
     "output_type": "stream",
     "text": [
      "Epoch 31 → Val MAE = 20.46°   (best 20.14°)\n"
     ]
    },
    {
     "name": "stderr",
     "output_type": "stream",
     "text": [
      "Epoch 32: 100%|██████████| 3238/3238 [19:43<00:00,  2.74it/s, train_loss=0.0127, train_mae=7.85°]\n"
     ]
    },
    {
     "name": "stdout",
     "output_type": "stream",
     "text": [
      "Epoch 32 → Val MAE = 21.44°   (best 20.14°)\n"
     ]
    },
    {
     "name": "stderr",
     "output_type": "stream",
     "text": [
      "Epoch 33: 100%|██████████| 3238/3238 [19:42<00:00,  2.74it/s, train_loss=0.0128, train_mae=7.69°]\n"
     ]
    },
    {
     "name": "stdout",
     "output_type": "stream",
     "text": [
      "Epoch 33 → Val MAE = 20.39°   (best 20.14°)\n"
     ]
    },
    {
     "name": "stderr",
     "output_type": "stream",
     "text": [
      "Epoch 34: 100%|██████████| 3238/3238 [19:43<00:00,  2.74it/s, train_loss=0.0123, train_mae=7.47°]\n"
     ]
    },
    {
     "name": "stdout",
     "output_type": "stream",
     "text": [
      "Epoch 34 → Val MAE = 19.87°   (best 20.14°)\n",
      "  ✔ New best model saved.\n"
     ]
    },
    {
     "name": "stderr",
     "output_type": "stream",
     "text": [
      "Epoch 35: 100%|██████████| 3238/3238 [5:50:29<00:00,  6.49s/it, train_loss=0.0120, train_mae=7.41°]      \n"
     ]
    },
    {
     "name": "stdout",
     "output_type": "stream",
     "text": [
      "Epoch 35 → Val MAE = 20.18°   (best 19.87°)\n"
     ]
    },
    {
     "name": "stderr",
     "output_type": "stream",
     "text": [
      "Epoch 36: 100%|██████████| 3238/3238 [19:53<00:00,  2.71it/s, train_loss=0.0113, train_mae=7.08°]\n"
     ]
    },
    {
     "name": "stdout",
     "output_type": "stream",
     "text": [
      "Epoch 36 → Val MAE = 20.84°   (best 19.87°)\n"
     ]
    },
    {
     "name": "stderr",
     "output_type": "stream",
     "text": [
      "Epoch 37: 100%|██████████| 3238/3238 [19:42<00:00,  2.74it/s, train_loss=0.0088, train_mae=6.57°]\n"
     ]
    },
    {
     "name": "stdout",
     "output_type": "stream",
     "text": [
      "Epoch 37 → Val MAE = 21.59°   (best 19.87°)\n"
     ]
    },
    {
     "name": "stderr",
     "output_type": "stream",
     "text": [
      "Epoch 38: 100%|██████████| 3238/3238 [19:51<00:00,  2.72it/s, train_loss=0.0099, train_mae=6.54°]\n"
     ]
    },
    {
     "name": "stdout",
     "output_type": "stream",
     "text": [
      "Epoch 38 → Val MAE = 20.84°   (best 19.87°)\n"
     ]
    },
    {
     "name": "stderr",
     "output_type": "stream",
     "text": [
      "Epoch 39: 100%|██████████| 3238/3238 [20:29<00:00,  2.63it/s, train_loss=0.0083, train_mae=6.33°]\n"
     ]
    },
    {
     "name": "stdout",
     "output_type": "stream",
     "text": [
      "Epoch 39 → Val MAE = 20.74°   (best 19.87°)\n"
     ]
    },
    {
     "name": "stderr",
     "output_type": "stream",
     "text": [
      "Epoch 40: 100%|██████████| 3238/3238 [19:42<00:00,  2.74it/s, train_loss=0.0100, train_mae=6.47°]\n"
     ]
    },
    {
     "name": "stdout",
     "output_type": "stream",
     "text": [
      "Epoch 40 → Val MAE = 20.32°   (best 19.87°)\n"
     ]
    },
    {
     "name": "stderr",
     "output_type": "stream",
     "text": [
      "Epoch 41: 100%|██████████| 3238/3238 [19:45<00:00,  2.73it/s, train_loss=0.0084, train_mae=6.20°]\n"
     ]
    },
    {
     "name": "stdout",
     "output_type": "stream",
     "text": [
      "Epoch 41 → Val MAE = 23.61°   (best 19.87°)\n"
     ]
    },
    {
     "name": "stderr",
     "output_type": "stream",
     "text": [
      "Epoch 42: 100%|██████████| 3238/3238 [19:40<00:00,  2.74it/s, train_loss=0.0074, train_mae=5.88°]\n"
     ]
    },
    {
     "name": "stdout",
     "output_type": "stream",
     "text": [
      "Epoch 42 → Val MAE = 20.88°   (best 19.87°)\n"
     ]
    },
    {
     "name": "stderr",
     "output_type": "stream",
     "text": [
      "Epoch 43: 100%|██████████| 3238/3238 [19:59<00:00,  2.70it/s, train_loss=0.0064, train_mae=5.67°]\n"
     ]
    },
    {
     "name": "stdout",
     "output_type": "stream",
     "text": [
      "Epoch 43 → Val MAE = 20.90°   (best 19.87°)\n"
     ]
    },
    {
     "name": "stderr",
     "output_type": "stream",
     "text": [
      "Epoch 44: 100%|██████████| 3238/3238 [19:47<00:00,  2.73it/s, train_loss=0.0066, train_mae=5.55°]\n"
     ]
    },
    {
     "name": "stdout",
     "output_type": "stream",
     "text": [
      "Epoch 44 → Val MAE = 21.08°   (best 19.87°)\n"
     ]
    },
    {
     "name": "stderr",
     "output_type": "stream",
     "text": [
      "Epoch 45: 100%|██████████| 3238/3238 [19:40<00:00,  2.74it/s, train_loss=0.0068, train_mae=5.53°]\n"
     ]
    },
    {
     "name": "stdout",
     "output_type": "stream",
     "text": [
      "Epoch 45 → Val MAE = 21.83°   (best 19.87°)\n"
     ]
    },
    {
     "name": "stderr",
     "output_type": "stream",
     "text": [
      "Epoch 46: 100%|██████████| 3238/3238 [19:40<00:00,  2.74it/s, train_loss=0.0068, train_mae=5.58°]\n"
     ]
    },
    {
     "name": "stdout",
     "output_type": "stream",
     "text": [
      "Epoch 46 → Val MAE = 20.68°   (best 19.87°)\n"
     ]
    },
    {
     "name": "stderr",
     "output_type": "stream",
     "text": [
      "Epoch 47: 100%|██████████| 3238/3238 [19:39<00:00,  2.75it/s, train_loss=0.0069, train_mae=5.39°]\n"
     ]
    },
    {
     "name": "stdout",
     "output_type": "stream",
     "text": [
      "Epoch 47 → Val MAE = 20.31°   (best 19.87°)\n"
     ]
    },
    {
     "name": "stderr",
     "output_type": "stream",
     "text": [
      "Epoch 48: 100%|██████████| 3238/3238 [19:39<00:00,  2.74it/s, train_loss=0.0069, train_mae=5.37°]\n"
     ]
    },
    {
     "name": "stdout",
     "output_type": "stream",
     "text": [
      "Epoch 48 → Val MAE = 20.59°   (best 19.87°)\n"
     ]
    },
    {
     "name": "stderr",
     "output_type": "stream",
     "text": [
      "Epoch 49: 100%|██████████| 3238/3238 [19:38<00:00,  2.75it/s, train_loss=0.0062, train_mae=5.21°]\n"
     ]
    },
    {
     "name": "stdout",
     "output_type": "stream",
     "text": [
      "Epoch 49 → Val MAE = 18.90°   (best 19.87°)\n",
      "  ✔ New best model saved.\n"
     ]
    },
    {
     "name": "stderr",
     "output_type": "stream",
     "text": [
      "Epoch 50: 100%|██████████| 3238/3238 [19:39<00:00,  2.75it/s, train_loss=0.0060, train_mae=5.07°]\n"
     ]
    },
    {
     "name": "stdout",
     "output_type": "stream",
     "text": [
      "Epoch 50 → Val MAE = 21.79°   (best 18.90°)\n",
      "Continued training complete. Best Val MAE = 18.90°\n"
     ]
    },
    {
     "ename": "",
     "evalue": "",
     "output_type": "error",
     "traceback": [
      "\u001b[1;31mThe Kernel crashed while executing code in the current cell or a previous cell. \n",
      "\u001b[1;31mPlease review the code in the cell(s) to identify a possible cause of the failure. \n",
      "\u001b[1;31mClick <a href='https://aka.ms/vscodeJupyterKernelCrash'>here</a> for more info. \n",
      "\u001b[1;31mView Jupyter <a href='command:jupyter.viewOutput'>log</a> for further details."
     ]
    }
   ],
   "source": [
    "# ----------------- Continue Training -----------------\n",
    "additional_epochs = 20\n",
    "start_epoch = num_epochs + 1\n",
    "end_epoch   = num_epochs + additional_epochs\n",
    "\n",
    "for epoch in range(start_epoch, end_epoch + 1):\n",
    "    model.train()\n",
    "    optimizer.zero_grad()\n",
    "    running_loss = 0.0\n",
    "    running_mae  = 0.0\n",
    "    running_n    = 0\n",
    "\n",
    "    pbar = tqdm(train_loader, desc=f\"Epoch {epoch}\")\n",
    "    for i, (imgs, tgt) in enumerate(pbar, 1):\n",
    "        imgs, tgt = imgs.to(device), tgt.to(device)\n",
    "        with amp.autocast():\n",
    "            out  = model(imgs)\n",
    "            loss = nn.MSELoss()(out, tgt) / accum_steps\n",
    "        scaler.scale(loss).backward()\n",
    "\n",
    "        # compute batch MAE\n",
    "        with torch.no_grad():\n",
    "            batch_mae = angle_mae(out.detach(), tgt)\n",
    "\n",
    "        running_loss += loss.item() * accum_steps\n",
    "        running_mae  += batch_mae * imgs.size(0)\n",
    "        running_n    += imgs.size(0)\n",
    "\n",
    "        if i % accum_steps == 0:\n",
    "            scaler.unscale_(optimizer)\n",
    "            nn.utils.clip_grad_norm_(model.parameters(), 1.0)\n",
    "            scaler.step(optimizer)\n",
    "            scaler.update()\n",
    "            optimizer.zero_grad()\n",
    "            scheduler.step()\n",
    "\n",
    "        epoch_loss = running_loss / running_n\n",
    "        epoch_mae  = running_mae / running_n\n",
    "        pbar.set_postfix(train_loss=f\"{epoch_loss:.4f}\", train_mae=f\"{epoch_mae:.2f}°\")\n",
    "\n",
    "    val_mae = validate(model, val_loader)\n",
    "    print(f\"Epoch {epoch} → Val MAE = {val_mae:.2f}°   (best {best_mae:.2f}°)\")\n",
    "    if val_mae < best_mae:\n",
    "        best_mae = val_mae\n",
    "        torch.save(model.state_dict(), 'best_model.pth')\n",
    "        print(\"  ✔ New best model saved.\")\n",
    "\n",
    "print(f\"Continued training complete. Best Val MAE = {best_mae:.2f}°\")\n"
   ]
  },
  {
   "cell_type": "code",
   "execution_count": null,
   "id": "e4d5d3dc",
   "metadata": {},
   "outputs": [],
   "source": []
  }
 ],
 "metadata": {
  "kernelspec": {
   "display_name": "Python 3",
   "language": "python",
   "name": "python3"
  },
  "language_info": {
   "codemirror_mode": {
    "name": "ipython",
    "version": 3
   },
   "file_extension": ".py",
   "mimetype": "text/x-python",
   "name": "python",
   "nbconvert_exporter": "python",
   "pygments_lexer": "ipython3",
   "version": "3.13.3"
  }
 },
 "nbformat": 4,
 "nbformat_minor": 5
}
